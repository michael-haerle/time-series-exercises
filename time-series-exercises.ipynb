{
 "cells": [
  {
   "cell_type": "markdown",
   "id": "4daff7ad",
   "metadata": {},
   "source": [
    "### The end result of this exercise should be a file named acquire.py.\n",
    "\n",
    "- Using the code from the lesson as a guide and the REST API from https://python.zgulde.net/api/v1/items as we did in the lesson, create a dataframe named items that has all of the data for items.\n",
    "- Do the same thing, but for stores (https://python.zgulde.net/api/v1/stores)\n",
    "- Extract the data for sales (https://python.zgulde.net/api/v1/sales). There are a lot of pages of data here, so your code will need to be a little more complex. Your code should continue fetching data from the next page until all of the data is extracted.\n",
    "- Save the data in your files to local csv files so that it will be faster to access in the future.\n",
    "- Combine the data from your three separate dataframes into one large dataframe."
   ]
  },
  {
   "cell_type": "code",
   "execution_count": 84,
   "id": "bb5542e2",
   "metadata": {},
   "outputs": [],
   "source": [
    "# To get rid of those blocks of red warnings\n",
    "import warnings\n",
    "warnings.filterwarnings(\"ignore\")\n",
    "\n",
    "# Standard Imports\n",
    "import numpy as np\n",
    "from scipy import stats\n",
    "import pandas as pd\n",
    "from math import sqrt\n",
    "import os\n",
    "from sklearn.cluster import KMeans\n",
    "import requests\n",
    "import json\n",
    "\n",
    "# Vis Imports\n",
    "import matplotlib.pyplot as plt\n",
    "import seaborn as sns\n",
    "import plotly.express as px\n",
    "\n",
    "# Modeling Imports\n",
    "from sklearn.preprocessing import MinMaxScaler\n",
    "from sklearn.model_selection import train_test_split\n",
    "from sklearn.linear_model import LinearRegression, LassoLars, TweedieRegressor\n",
    "from sklearn.metrics import mean_squared_error, r2_score, explained_variance_score\n",
    "from sklearn.feature_selection import f_regression \n",
    "from sklearn.metrics import mean_squared_error\n",
    "from sklearn.preprocessing import PolynomialFeatures\n",
    "from sklearn.feature_selection import SelectKBest, f_regression, RFE\n"
   ]
  },
  {
   "cell_type": "code",
   "execution_count": 51,
   "id": "0a038b4d",
   "metadata": {},
   "outputs": [
    {
     "name": "stdout",
     "output_type": "stream",
     "text": [
      "{\"api\":\"/api/v1\",\"help\":\"/documentation\"}\n",
      "\n"
     ]
    }
   ],
   "source": [
    "base_url = 'https://python.zgulde.net'\n",
    "print(requests.get(base_url).text)"
   ]
  },
  {
   "cell_type": "code",
   "execution_count": 52,
   "id": "17eda564",
   "metadata": {},
   "outputs": [
    {
     "data": {
      "text/plain": [
       "dict_keys(['payload', 'status'])"
      ]
     },
     "execution_count": 52,
     "metadata": {},
     "output_type": "execute_result"
    }
   ],
   "source": [
    "response = requests.get('https://python.zgulde.net/api/v1/items')\n",
    "\n",
    "data = response.json()\n",
    "data.keys()"
   ]
  },
  {
   "cell_type": "code",
   "execution_count": 53,
   "id": "7836912d",
   "metadata": {},
   "outputs": [
    {
     "data": {
      "text/plain": [
       "dict_keys(['items', 'max_page', 'next_page', 'page', 'previous_page'])"
      ]
     },
     "execution_count": 53,
     "metadata": {},
     "output_type": "execute_result"
    }
   ],
   "source": [
    "data['payload'].keys()"
   ]
  },
  {
   "cell_type": "code",
   "execution_count": 54,
   "id": "3793f83e",
   "metadata": {},
   "outputs": [
    {
     "name": "stdout",
     "output_type": "stream",
     "text": [
      "current_page: 1\n",
      "max_page: 3\n",
      "next_page: /api/v1/items?page=2\n"
     ]
    }
   ],
   "source": [
    "current_page = data['payload']['page']\n",
    "max_page = data['payload']['max_page']\n",
    "next_page = data['payload']['next_page']\n",
    "\n",
    "print(f'current_page: {current_page}')\n",
    "print(f'max_page: {max_page}')\n",
    "print(f'next_page: {next_page}')"
   ]
  },
  {
   "cell_type": "markdown",
   "id": "167c7c00",
   "metadata": {},
   "source": [
    "Here the response has some built-in properties that tell us how to get to subsequent pages.\n",
    "\n",
    "Once we've drilled down into the data structure, we'll find that the entire response is a sort of wrapper around the items property:"
   ]
  },
  {
   "cell_type": "code",
   "execution_count": 55,
   "id": "0a9b806f",
   "metadata": {},
   "outputs": [
    {
     "data": {
      "text/plain": [
       "[{'item_brand': 'Riceland',\n",
       "  'item_id': 1,\n",
       "  'item_name': 'Riceland American Jazmine Rice',\n",
       "  'item_price': 0.84,\n",
       "  'item_upc12': '35200264013',\n",
       "  'item_upc14': '35200264013'},\n",
       " {'item_brand': 'Caress',\n",
       "  'item_id': 2,\n",
       "  'item_name': 'Caress Velvet Bliss Ultra Silkening Beauty Bar - 6 Ct',\n",
       "  'item_price': 6.44,\n",
       "  'item_upc12': '11111065925',\n",
       "  'item_upc14': '11111065925'}]"
      ]
     },
     "execution_count": 55,
     "metadata": {},
     "output_type": "execute_result"
    }
   ],
   "source": [
    "data['payload']['items'][:2]"
   ]
  },
  {
   "cell_type": "code",
   "execution_count": 56,
   "id": "fa3299d1",
   "metadata": {},
   "outputs": [
    {
     "data": {
      "text/html": [
       "<div>\n",
       "<style scoped>\n",
       "    .dataframe tbody tr th:only-of-type {\n",
       "        vertical-align: middle;\n",
       "    }\n",
       "\n",
       "    .dataframe tbody tr th {\n",
       "        vertical-align: top;\n",
       "    }\n",
       "\n",
       "    .dataframe thead th {\n",
       "        text-align: right;\n",
       "    }\n",
       "</style>\n",
       "<table border=\"1\" class=\"dataframe\">\n",
       "  <thead>\n",
       "    <tr style=\"text-align: right;\">\n",
       "      <th></th>\n",
       "      <th>item_brand</th>\n",
       "      <th>item_id</th>\n",
       "      <th>item_name</th>\n",
       "      <th>item_price</th>\n",
       "      <th>item_upc12</th>\n",
       "      <th>item_upc14</th>\n",
       "    </tr>\n",
       "  </thead>\n",
       "  <tbody>\n",
       "    <tr>\n",
       "      <th>0</th>\n",
       "      <td>Riceland</td>\n",
       "      <td>1</td>\n",
       "      <td>Riceland American Jazmine Rice</td>\n",
       "      <td>0.84</td>\n",
       "      <td>35200264013</td>\n",
       "      <td>35200264013</td>\n",
       "    </tr>\n",
       "    <tr>\n",
       "      <th>1</th>\n",
       "      <td>Caress</td>\n",
       "      <td>2</td>\n",
       "      <td>Caress Velvet Bliss Ultra Silkening Beauty Bar...</td>\n",
       "      <td>6.44</td>\n",
       "      <td>11111065925</td>\n",
       "      <td>11111065925</td>\n",
       "    </tr>\n",
       "    <tr>\n",
       "      <th>2</th>\n",
       "      <td>Earths Best</td>\n",
       "      <td>3</td>\n",
       "      <td>Earths Best Organic Fruit Yogurt Smoothie Mixe...</td>\n",
       "      <td>2.43</td>\n",
       "      <td>23923330139</td>\n",
       "      <td>23923330139</td>\n",
       "    </tr>\n",
       "    <tr>\n",
       "      <th>3</th>\n",
       "      <td>Boars Head</td>\n",
       "      <td>4</td>\n",
       "      <td>Boars Head Sliced White American Cheese - 120 Ct</td>\n",
       "      <td>3.14</td>\n",
       "      <td>208528800007</td>\n",
       "      <td>208528800007</td>\n",
       "    </tr>\n",
       "    <tr>\n",
       "      <th>4</th>\n",
       "      <td>Back To Nature</td>\n",
       "      <td>5</td>\n",
       "      <td>Back To Nature Gluten Free White Cheddar Rice ...</td>\n",
       "      <td>2.61</td>\n",
       "      <td>759283100036</td>\n",
       "      <td>759283100036</td>\n",
       "    </tr>\n",
       "  </tbody>\n",
       "</table>\n",
       "</div>"
      ],
      "text/plain": [
       "       item_brand  item_id                                          item_name  \\\n",
       "0        Riceland        1                     Riceland American Jazmine Rice   \n",
       "1          Caress        2  Caress Velvet Bliss Ultra Silkening Beauty Bar...   \n",
       "2     Earths Best        3  Earths Best Organic Fruit Yogurt Smoothie Mixe...   \n",
       "3      Boars Head        4   Boars Head Sliced White American Cheese - 120 Ct   \n",
       "4  Back To Nature        5  Back To Nature Gluten Free White Cheddar Rice ...   \n",
       "\n",
       "   item_price    item_upc12    item_upc14  \n",
       "0        0.84   35200264013   35200264013  \n",
       "1        6.44   11111065925   11111065925  \n",
       "2        2.43   23923330139   23923330139  \n",
       "3        3.14  208528800007  208528800007  \n",
       "4        2.61  759283100036  759283100036  "
      ]
     },
     "execution_count": 56,
     "metadata": {},
     "output_type": "execute_result"
    }
   ],
   "source": [
    "df = pd.DataFrame(data['payload']['items'])\n",
    "df.head()"
   ]
  },
  {
   "cell_type": "code",
   "execution_count": 57,
   "id": "fff78492",
   "metadata": {},
   "outputs": [
    {
     "name": "stdout",
     "output_type": "stream",
     "text": [
      "current_page: 2\n",
      "max_page: 3\n",
      "next_page: /api/v1/items?page=3\n"
     ]
    }
   ],
   "source": [
    "response = requests.get(base_url + data['payload']['next_page'])\n",
    "data = response.json()\n",
    "\n",
    "current_page = data['payload']['page']\n",
    "max_page = data['payload']['max_page']\n",
    "next_page = data['payload']['next_page']\n",
    "\n",
    "print(f'current_page: {current_page}')\n",
    "print(f'max_page: {max_page}')\n",
    "print(f'next_page: {next_page}')\n",
    "\n",
    "df = pd.concat([df, pd.DataFrame(data['payload']['items'])]).reset_index()"
   ]
  },
  {
   "cell_type": "code",
   "execution_count": 59,
   "id": "9f3f28e6",
   "metadata": {},
   "outputs": [
    {
     "name": "stdout",
     "output_type": "stream",
     "text": [
      "current_page: 3\n",
      "max_page: 3\n",
      "next_page: None\n"
     ]
    }
   ],
   "source": [
    "response = requests.get(base_url + data['payload']['next_page'])\n",
    "data = response.json()\n",
    "\n",
    "current_page = data['payload']['page']\n",
    "max_page = data['payload']['max_page']\n",
    "next_page = data['payload']['next_page']\n",
    "\n",
    "print(f'current_page: {current_page}')\n",
    "print(f'max_page: {max_page}')\n",
    "print(f'next_page: {next_page}')\n",
    "\n",
    "df = pd.concat([df, pd.DataFrame(data['payload']['items'])]).reset_index()"
   ]
  },
  {
   "cell_type": "code",
   "execution_count": 60,
   "id": "d30eb00c",
   "metadata": {},
   "outputs": [
    {
     "data": {
      "text/plain": [
       "(50, 8)"
      ]
     },
     "execution_count": 60,
     "metadata": {},
     "output_type": "execute_result"
    }
   ],
   "source": [
    "df.shape"
   ]
  },
  {
   "cell_type": "code",
   "execution_count": 61,
   "id": "150fcf95",
   "metadata": {},
   "outputs": [],
   "source": [
    "def acquire_df():\n",
    "    base_url = 'https://python.zgulde.net'\n",
    "    response = requests.get('https://python.zgulde.net/api/v1/items')\n",
    "    data = response.json()\n",
    "    current_page = data['payload']['page']\n",
    "    max_page = data['payload']['max_page']\n",
    "    next_page = data['payload']['next_page']\n",
    "    df = pd.DataFrame(data['payload']['items'])\n",
    "    response = requests.get(base_url + data['payload']['next_page'])\n",
    "    data = response.json()\n",
    "\n",
    "    current_page = data['payload']['page']\n",
    "    max_page = data['payload']['max_page']\n",
    "    next_page = data['payload']['next_page']\n",
    "\n",
    "    df = pd.concat([df, pd.DataFrame(data['payload']['items'])]).reset_index()\n",
    "    response = requests.get(base_url + data['payload']['next_page'])\n",
    "    data = response.json()\n",
    "\n",
    "    current_page = data['payload']['page']\n",
    "    max_page = data['payload']['max_page']\n",
    "    next_page = data['payload']['next_page']\n",
    "\n",
    "    df = pd.concat([df, pd.DataFrame(data['payload']['items'])]).reset_index()\n",
    "    return df"
   ]
  },
  {
   "cell_type": "code",
   "execution_count": 62,
   "id": "487233f1",
   "metadata": {},
   "outputs": [],
   "source": [
    "def df_to_csv():\n",
    "    filename = \"df.csv\"\n",
    "    \n",
    "    # if file is available locally, read it\n",
    "    if os.path.isfile(filename):\n",
    "        return pd.read_csv(filename)\n",
    "    \n",
    "    # if file not available locally, acquire data from SQL database\n",
    "    # and write it as csv locally for future use\n",
    "    else:\n",
    "        # read the SQL query into a dataframe\n",
    "        df = acquire_df()\n",
    "        \n",
    "        # Write that dataframe to disk for later. Called \"caching\" the data for later.\n",
    "        df.to_csv(filename, index=False)\n",
    "\n",
    "        # Return the dataframe to the calling code\n",
    "        return df "
   ]
  },
  {
   "cell_type": "code",
   "execution_count": 89,
   "id": "700c7edd",
   "metadata": {},
   "outputs": [],
   "source": [
    "df = df_to_csv()"
   ]
  },
  {
   "cell_type": "code",
   "execution_count": 90,
   "id": "a2eb99eb",
   "metadata": {},
   "outputs": [
    {
     "data": {
      "text/html": [
       "<div>\n",
       "<style scoped>\n",
       "    .dataframe tbody tr th:only-of-type {\n",
       "        vertical-align: middle;\n",
       "    }\n",
       "\n",
       "    .dataframe tbody tr th {\n",
       "        vertical-align: top;\n",
       "    }\n",
       "\n",
       "    .dataframe thead th {\n",
       "        text-align: right;\n",
       "    }\n",
       "</style>\n",
       "<table border=\"1\" class=\"dataframe\">\n",
       "  <thead>\n",
       "    <tr style=\"text-align: right;\">\n",
       "      <th></th>\n",
       "      <th>level_0</th>\n",
       "      <th>index</th>\n",
       "      <th>item_brand</th>\n",
       "      <th>item_id</th>\n",
       "      <th>item_name</th>\n",
       "      <th>item_price</th>\n",
       "      <th>item_upc12</th>\n",
       "      <th>item_upc14</th>\n",
       "    </tr>\n",
       "  </thead>\n",
       "  <tbody>\n",
       "    <tr>\n",
       "      <th>0</th>\n",
       "      <td>0</td>\n",
       "      <td>0.0</td>\n",
       "      <td>Riceland</td>\n",
       "      <td>1</td>\n",
       "      <td>Riceland American Jazmine Rice</td>\n",
       "      <td>0.84</td>\n",
       "      <td>35200264013</td>\n",
       "      <td>35200264013</td>\n",
       "    </tr>\n",
       "    <tr>\n",
       "      <th>1</th>\n",
       "      <td>1</td>\n",
       "      <td>1.0</td>\n",
       "      <td>Caress</td>\n",
       "      <td>2</td>\n",
       "      <td>Caress Velvet Bliss Ultra Silkening Beauty Bar...</td>\n",
       "      <td>6.44</td>\n",
       "      <td>11111065925</td>\n",
       "      <td>11111065925</td>\n",
       "    </tr>\n",
       "    <tr>\n",
       "      <th>2</th>\n",
       "      <td>2</td>\n",
       "      <td>2.0</td>\n",
       "      <td>Earths Best</td>\n",
       "      <td>3</td>\n",
       "      <td>Earths Best Organic Fruit Yogurt Smoothie Mixe...</td>\n",
       "      <td>2.43</td>\n",
       "      <td>23923330139</td>\n",
       "      <td>23923330139</td>\n",
       "    </tr>\n",
       "    <tr>\n",
       "      <th>3</th>\n",
       "      <td>3</td>\n",
       "      <td>3.0</td>\n",
       "      <td>Boars Head</td>\n",
       "      <td>4</td>\n",
       "      <td>Boars Head Sliced White American Cheese - 120 Ct</td>\n",
       "      <td>3.14</td>\n",
       "      <td>208528800007</td>\n",
       "      <td>208528800007</td>\n",
       "    </tr>\n",
       "    <tr>\n",
       "      <th>4</th>\n",
       "      <td>4</td>\n",
       "      <td>4.0</td>\n",
       "      <td>Back To Nature</td>\n",
       "      <td>5</td>\n",
       "      <td>Back To Nature Gluten Free White Cheddar Rice ...</td>\n",
       "      <td>2.61</td>\n",
       "      <td>759283100036</td>\n",
       "      <td>759283100036</td>\n",
       "    </tr>\n",
       "  </tbody>\n",
       "</table>\n",
       "</div>"
      ],
      "text/plain": [
       "   level_0  index      item_brand  item_id  \\\n",
       "0        0    0.0        Riceland        1   \n",
       "1        1    1.0          Caress        2   \n",
       "2        2    2.0     Earths Best        3   \n",
       "3        3    3.0      Boars Head        4   \n",
       "4        4    4.0  Back To Nature        5   \n",
       "\n",
       "                                           item_name  item_price  \\\n",
       "0                     Riceland American Jazmine Rice        0.84   \n",
       "1  Caress Velvet Bliss Ultra Silkening Beauty Bar...        6.44   \n",
       "2  Earths Best Organic Fruit Yogurt Smoothie Mixe...        2.43   \n",
       "3   Boars Head Sliced White American Cheese - 120 Ct        3.14   \n",
       "4  Back To Nature Gluten Free White Cheddar Rice ...        2.61   \n",
       "\n",
       "     item_upc12    item_upc14  \n",
       "0   35200264013   35200264013  \n",
       "1   11111065925   11111065925  \n",
       "2   23923330139   23923330139  \n",
       "3  208528800007  208528800007  \n",
       "4  759283100036  759283100036  "
      ]
     },
     "execution_count": 90,
     "metadata": {},
     "output_type": "execute_result"
    }
   ],
   "source": [
    "df.head()"
   ]
  },
  {
   "cell_type": "markdown",
   "id": "c9c64117",
   "metadata": {},
   "source": [
    "- Acquire the Open Power Systems Data for Germany, which has been rapidly expanding its renewable energy production in recent years. The data set includes country-wide totals of electricity consumption, wind power production, and solar power production for 2006-2017. You can get the data here: https://raw.githubusercontent.com/jenfly/opsd/master/opsd_germany_daily.csv\n",
    "- Make sure all the work that you have done above is reproducible. That is, you should put the code above into separate functions in the acquire.py file and be able to re-run the functions and get the same data."
   ]
  },
  {
   "cell_type": "code",
   "execution_count": 93,
   "id": "b24077f6",
   "metadata": {},
   "outputs": [],
   "source": [
    "url = \"https://raw.githubusercontent.com/jenfly/opsd/master/opsd_germany_daily.csv\"\n",
    "df=pd.read_csv(url)"
   ]
  },
  {
   "cell_type": "code",
   "execution_count": 94,
   "id": "d379e557",
   "metadata": {},
   "outputs": [
    {
     "data": {
      "text/html": [
       "<div>\n",
       "<style scoped>\n",
       "    .dataframe tbody tr th:only-of-type {\n",
       "        vertical-align: middle;\n",
       "    }\n",
       "\n",
       "    .dataframe tbody tr th {\n",
       "        vertical-align: top;\n",
       "    }\n",
       "\n",
       "    .dataframe thead th {\n",
       "        text-align: right;\n",
       "    }\n",
       "</style>\n",
       "<table border=\"1\" class=\"dataframe\">\n",
       "  <thead>\n",
       "    <tr style=\"text-align: right;\">\n",
       "      <th></th>\n",
       "      <th>Date</th>\n",
       "      <th>Consumption</th>\n",
       "      <th>Wind</th>\n",
       "      <th>Solar</th>\n",
       "      <th>Wind+Solar</th>\n",
       "    </tr>\n",
       "  </thead>\n",
       "  <tbody>\n",
       "    <tr>\n",
       "      <th>0</th>\n",
       "      <td>2006-01-01</td>\n",
       "      <td>1069.184</td>\n",
       "      <td>NaN</td>\n",
       "      <td>NaN</td>\n",
       "      <td>NaN</td>\n",
       "    </tr>\n",
       "    <tr>\n",
       "      <th>1</th>\n",
       "      <td>2006-01-02</td>\n",
       "      <td>1380.521</td>\n",
       "      <td>NaN</td>\n",
       "      <td>NaN</td>\n",
       "      <td>NaN</td>\n",
       "    </tr>\n",
       "    <tr>\n",
       "      <th>2</th>\n",
       "      <td>2006-01-03</td>\n",
       "      <td>1442.533</td>\n",
       "      <td>NaN</td>\n",
       "      <td>NaN</td>\n",
       "      <td>NaN</td>\n",
       "    </tr>\n",
       "    <tr>\n",
       "      <th>3</th>\n",
       "      <td>2006-01-04</td>\n",
       "      <td>1457.217</td>\n",
       "      <td>NaN</td>\n",
       "      <td>NaN</td>\n",
       "      <td>NaN</td>\n",
       "    </tr>\n",
       "    <tr>\n",
       "      <th>4</th>\n",
       "      <td>2006-01-05</td>\n",
       "      <td>1477.131</td>\n",
       "      <td>NaN</td>\n",
       "      <td>NaN</td>\n",
       "      <td>NaN</td>\n",
       "    </tr>\n",
       "  </tbody>\n",
       "</table>\n",
       "</div>"
      ],
      "text/plain": [
       "         Date  Consumption  Wind  Solar  Wind+Solar\n",
       "0  2006-01-01     1069.184   NaN    NaN         NaN\n",
       "1  2006-01-02     1380.521   NaN    NaN         NaN\n",
       "2  2006-01-03     1442.533   NaN    NaN         NaN\n",
       "3  2006-01-04     1457.217   NaN    NaN         NaN\n",
       "4  2006-01-05     1477.131   NaN    NaN         NaN"
      ]
     },
     "execution_count": 94,
     "metadata": {},
     "output_type": "execute_result"
    }
   ],
   "source": [
    "df.head()"
   ]
  },
  {
   "cell_type": "code",
   "execution_count": null,
   "id": "84c1b4de",
   "metadata": {},
   "outputs": [],
   "source": []
  }
 ],
 "metadata": {
  "kernelspec": {
   "display_name": "Python 3 (ipykernel)",
   "language": "python",
   "name": "python3"
  },
  "language_info": {
   "codemirror_mode": {
    "name": "ipython",
    "version": 3
   },
   "file_extension": ".py",
   "mimetype": "text/x-python",
   "name": "python",
   "nbconvert_exporter": "python",
   "pygments_lexer": "ipython3",
   "version": "3.9.12"
  }
 },
 "nbformat": 4,
 "nbformat_minor": 5
}
